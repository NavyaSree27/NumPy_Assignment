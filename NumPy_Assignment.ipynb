{
  "nbformat": 4,
  "nbformat_minor": 0,
  "metadata": {
    "colab": {
      "provenance": []
    },
    "kernelspec": {
      "name": "python3",
      "display_name": "Python 3"
    },
    "language_info": {
      "name": "python"
    }
  },
  "cells": [
    {
      "cell_type": "markdown",
      "source": [
        "#1.Create a 3*3 numpy array with random integers between 1 to 100 .Then interchange its rows and columns.\n",
        "\n",
        "The code to create a 3x3 NumPy array with random integers between 1 and 100 and then interchange its rows and columns (transpose it):\n",
        "\n",
        "```\n",
        "import numpy as np\n",
        "\n",
        "# Create a 3x3 numpy array with random integers between 1 and 100\n",
        "array_3x3 = np.random.randint(1, 101, size=(3, 3))\n",
        "\n",
        "# Interchange rows and columns (transpose the array)\n",
        "transposed_array = np.transpose(array_3x3)\n",
        "\n",
        "# Print the original and transposed arrays\n",
        "print(\"Original Array:\")\n",
        "print(array_3x3)\n",
        "\n",
        "print(\"\\nTransposed Array:\")\n",
        "print(transposed_array)\n",
        "```\n"
      ],
      "metadata": {
        "id": "qY5RYduSpoQf"
      }
    },
    {
      "cell_type": "code",
      "source": [
        "import numpy as np\n",
        "\n",
        "# Create a 3x3 numpy array with random integers between 1 and 100\n",
        "array_3x3 = np.random.randint(1, 101, size=(3, 3))\n",
        "\n",
        "# Interchange rows and columns (transpose the array)\n",
        "transposed_array = np.transpose(array_3x3)\n",
        "\n",
        "# Print the original and transposed arrays\n",
        "print(\"Original Array:\")\n",
        "print(array_3x3)\n",
        "\n",
        "print(\"\\nTransposed Array:\")\n",
        "print(transposed_array)\n"
      ],
      "metadata": {
        "colab": {
          "base_uri": "https://localhost:8080/"
        },
        "id": "7ItaIiVhqJLW",
        "outputId": "8368e96c-c6db-4d46-d27c-a7d909cd3563"
      },
      "execution_count": 1,
      "outputs": [
        {
          "output_type": "stream",
          "name": "stdout",
          "text": [
            "Original Array:\n",
            "[[60 36 64]\n",
            " [21 38 58]\n",
            " [75 33 37]]\n",
            "\n",
            "Transposed Array:\n",
            "[[60 21 75]\n",
            " [36 38 33]\n",
            " [64 58 37]]\n"
          ]
        }
      ]
    },
    {
      "cell_type": "markdown",
      "source": [
        "#2.Generate a 1D NumPy array with 10 elements. Reshape it into 2 * 5 array, then into a 5 * 2 array.\n",
        "```\n",
        "import numpy as np\n",
        "\n",
        "# 1. Create a 3x3 numpy array with random integers between 1 and 100 and interchange its rows and columns\n",
        "array_3x3 = np.random.randint(1, 101, size=(3, 3))\n",
        "transposed_array = np.transpose(array_3x3)\n",
        "\n",
        "print(\"Original 3x3 Array:\")\n",
        "print(array_3x3)\n",
        "print(\"\\nTransposed Array:\")\n",
        "print(transposed_array)\n",
        "\n",
        "# 2. Generate a 1D NumPy array with 10 elements and reshape it into 2x5 and then into 5x2 arrays\n",
        "array_1d = np.arange(10)\n",
        "\n",
        "# Reshape it into a 2x5 array\n",
        "array_2x5 = array_1d.reshape(2, 5)\n",
        "\n",
        "# Reshape it into a 5x2 array\n",
        "array_5x2 = array_1d.reshape(5, 2)\n",
        "\n",
        "print(\"\\n1D Array:\")\n",
        "print(array_1d)\n",
        "print(\"\\n2x5 Array:\")\n",
        "print(array_2x5)\n",
        "print(\"\\n5x2 Array:\")\n",
        "print(array_5x2)\n",
        "```"
      ],
      "metadata": {
        "id": "z_p3C_iMqNSO"
      }
    },
    {
      "cell_type": "code",
      "source": [
        "import numpy as np\n",
        "\n",
        "# 1. Create a 3x3 numpy array with random integers between 1 and 100 and interchange its rows and columns\n",
        "array_3x3 = np.random.randint(1, 101, size=(3, 3))\n",
        "transposed_array = np.transpose(array_3x3)\n",
        "\n",
        "print(\"Original 3x3 Array:\")\n",
        "print(array_3x3)\n",
        "print(\"\\nTransposed Array:\")\n",
        "print(transposed_array)\n",
        "\n",
        "# 2. Generate a 1D NumPy array with 10 elements and reshape it into 2x5 and then into 5x2 arrays\n",
        "array_1d = np.arange(10)\n",
        "\n",
        "# Reshape it into a 2x5 array\n",
        "array_2x5 = array_1d.reshape(2, 5)\n",
        "\n",
        "# Reshape it into a 5x2 array\n",
        "array_5x2 = array_1d.reshape(5, 2)\n",
        "\n",
        "print(\"\\n1D Array:\")\n",
        "print(array_1d)\n",
        "print(\"\\n2x5 Array:\")\n",
        "print(array_2x5)\n",
        "print(\"\\n5x2 Array:\")\n",
        "print(array_5x2)\n"
      ],
      "metadata": {
        "colab": {
          "base_uri": "https://localhost:8080/"
        },
        "id": "Z7bMQLbCqxjN",
        "outputId": "8bce794c-a4ea-4887-fcaa-8eb396becf7b"
      },
      "execution_count": 2,
      "outputs": [
        {
          "output_type": "stream",
          "name": "stdout",
          "text": [
            "Original 3x3 Array:\n",
            "[[75 52 48]\n",
            " [91 32 92]\n",
            " [60 10 85]]\n",
            "\n",
            "Transposed Array:\n",
            "[[75 91 60]\n",
            " [52 32 10]\n",
            " [48 92 85]]\n",
            "\n",
            "1D Array:\n",
            "[0 1 2 3 4 5 6 7 8 9]\n",
            "\n",
            "2x5 Array:\n",
            "[[0 1 2 3 4]\n",
            " [5 6 7 8 9]]\n",
            "\n",
            "5x2 Array:\n",
            "[[0 1]\n",
            " [2 3]\n",
            " [4 5]\n",
            " [6 7]\n",
            " [8 9]]\n"
          ]
        }
      ]
    },
    {
      "cell_type": "markdown",
      "source": [
        "#3.Create a 4 * 4 NumPy array with random float values.Add a border of zeroes around it, resulting in a 6 * 6 array.\n",
        "```\n",
        "import numpy as np\n",
        "\n",
        "# Create a 4x4 NumPy array with random float values\n",
        "array_4x4 = np.random.random((4, 4))\n",
        "\n",
        "# Add a border of zeroes around the 4x4 array\n",
        "array_with_border = np.pad(array_4x4, pad_width=1, mode='constant', constant_values=0)\n",
        "\n",
        "# Print the original and the bordered arrays\n",
        "print(\"Original 4x4 Array:\")\n",
        "print(array_4x4)\n",
        "\n",
        "print(\"\\n6x6 Array with Zero Border:\")\n",
        "print(array_with_border)\n",
        "```\n",
        "\n"
      ],
      "metadata": {
        "id": "p4cbpvF8q1P1"
      }
    },
    {
      "cell_type": "code",
      "source": [
        "import numpy as np\n",
        "\n",
        "# Create a 4x4 NumPy array with random float values\n",
        "array_4x4 = np.random.random((4, 4))\n",
        "\n",
        "# Add a border of zeroes around the 4x4 array\n",
        "array_with_border = np.pad(array_4x4, pad_width=1, mode='constant', constant_values=0)\n",
        "\n",
        "# Print the original and the bordered arrays\n",
        "print(\"Original 4x4 Array:\")\n",
        "print(array_4x4)\n",
        "\n",
        "print(\"\\n6x6 Array with Zero Border:\")\n",
        "print(array_with_border)\n"
      ],
      "metadata": {
        "colab": {
          "base_uri": "https://localhost:8080/"
        },
        "id": "W2_HCXTOr2m1",
        "outputId": "2333b411-d59e-402f-d6ca-1b5a11efe72f"
      },
      "execution_count": 3,
      "outputs": [
        {
          "output_type": "stream",
          "name": "stdout",
          "text": [
            "Original 4x4 Array:\n",
            "[[0.68665637 0.95506037 0.62561044 0.8998488 ]\n",
            " [0.09907326 0.32801958 0.76624843 0.23412265]\n",
            " [0.78476187 0.15442464 0.45441565 0.23129052]\n",
            " [0.25565198 0.98451995 0.45888292 0.86263365]]\n",
            "\n",
            "6x6 Array with Zero Border:\n",
            "[[0.         0.         0.         0.         0.         0.        ]\n",
            " [0.         0.68665637 0.95506037 0.62561044 0.8998488  0.        ]\n",
            " [0.         0.09907326 0.32801958 0.76624843 0.23412265 0.        ]\n",
            " [0.         0.78476187 0.15442464 0.45441565 0.23129052 0.        ]\n",
            " [0.         0.25565198 0.98451995 0.45888292 0.86263365 0.        ]\n",
            " [0.         0.         0.         0.         0.         0.        ]]\n"
          ]
        }
      ]
    },
    {
      "cell_type": "markdown",
      "source": [
        "#4.Using Numpy create an array of integers from  10 to 60 with  astep of 5.\n",
        "```\n",
        "import numpy as np\n",
        "\n",
        "# Create an array of integers from 10 to 60 with a step of 5\n",
        "array_integers = np.arange(10, 61, 5)\n",
        "\n",
        "# Print the array\n",
        "print(array_integers)\n",
        "```"
      ],
      "metadata": {
        "id": "5Ri5wKpurLi1"
      }
    },
    {
      "cell_type": "code",
      "source": [
        "import numpy as np\n",
        "\n",
        "# Create an array of integers from 10 to 60 with a step of 5\n",
        "array_integers = np.arange(10, 61, 5)\n",
        "\n",
        "# Print the array\n",
        "print(array_integers)\n"
      ],
      "metadata": {
        "colab": {
          "base_uri": "https://localhost:8080/"
        },
        "id": "kvNIWjJCsATF",
        "outputId": "78060723-3487-480d-efa0-bea3380136e6"
      },
      "execution_count": 4,
      "outputs": [
        {
          "output_type": "stream",
          "name": "stdout",
          "text": [
            "[10 15 20 25 30 35 40 45 50 55 60]\n"
          ]
        }
      ]
    },
    {
      "cell_type": "markdown",
      "source": [
        "#5.Create a NumPy array of strings['python','numpy','pandas'].Apply different case transformations (upercase,lowercase,title case,etc.) to each element.\n",
        "```\n",
        "import numpy as np\n",
        "\n",
        "# Create a NumPy array of strings\n",
        "string_array = np.array(['python', 'numpy', 'pandas'])\n",
        "\n",
        "# Apply different case transformations to each element\n",
        "upper_case = np.char.upper(string_array)       # Convert to uppercase\n",
        "lower_case = np.char.lower(string_array)       # Convert to lowercase\n",
        "title_case = np.char.title(string_array)       # Convert to title case\n",
        "capitalize_case = np.char.capitalize(string_array)  # Capitalize first letter\n",
        "\n",
        "# Print the results\n",
        "print(\"Original Array:\")\n",
        "print(string_array)\n",
        "\n",
        "print(\"\\nUppercase:\")\n",
        "print(upper_case)\n",
        "\n",
        "print(\"\\nLowercase:\")\n",
        "print(lower_case)\n",
        "\n",
        "print(\"\\nTitle Case:\")\n",
        "print(title_case)\n",
        "\n",
        "print(\"\\nCapitalize:\")\n",
        "print(capitalize_case)\n",
        "```"
      ],
      "metadata": {
        "id": "5aLJTpbmrMXe"
      }
    },
    {
      "cell_type": "code",
      "source": [
        "import numpy as np\n",
        "\n",
        "# Create a NumPy array of strings\n",
        "string_array = np.array(['python', 'numpy', 'pandas'])\n",
        "\n",
        "# Apply different case transformations to each element\n",
        "upper_case = np.char.upper(string_array)       # Convert to uppercase\n",
        "lower_case = np.char.lower(string_array)       # Convert to lowercase\n",
        "title_case = np.char.title(string_array)       # Convert to title case\n",
        "capitalize_case = np.char.capitalize(string_array)  # Capitalize first letter\n",
        "\n",
        "# Print the results\n",
        "print(\"Original Array:\")\n",
        "print(string_array)\n",
        "\n",
        "print(\"\\nUppercase:\")\n",
        "print(upper_case)\n",
        "\n",
        "print(\"\\nLowercase:\")\n",
        "print(lower_case)\n",
        "\n",
        "print(\"\\nTitle Case:\")\n",
        "print(title_case)\n",
        "\n",
        "print(\"\\nCapitalize:\")\n",
        "print(capitalize_case)\n"
      ],
      "metadata": {
        "colab": {
          "base_uri": "https://localhost:8080/"
        },
        "id": "6T1XngDvuBW_",
        "outputId": "81841336-0d81-451f-b804-cc4992278dec"
      },
      "execution_count": 5,
      "outputs": [
        {
          "output_type": "stream",
          "name": "stdout",
          "text": [
            "Original Array:\n",
            "['python' 'numpy' 'pandas']\n",
            "\n",
            "Uppercase:\n",
            "['PYTHON' 'NUMPY' 'PANDAS']\n",
            "\n",
            "Lowercase:\n",
            "['python' 'numpy' 'pandas']\n",
            "\n",
            "Title Case:\n",
            "['Python' 'Numpy' 'Pandas']\n",
            "\n",
            "Capitalize:\n",
            "['Python' 'Numpy' 'Pandas']\n"
          ]
        }
      ]
    },
    {
      "cell_type": "markdown",
      "source": [
        "#6.Generate NumPy array of words.Insert a space between each character of every word in the array.\n",
        "```\n",
        "import numpy as np\n",
        "\n",
        "# Create a NumPy array of words\n",
        "words_array = np.array(['python', 'numpy', 'pandas'])\n",
        "\n",
        "# Insert a space between each character of every word\n",
        "spaced_words = np.char.join(' ', words_array)\n",
        "\n",
        "# Print the result\n",
        "print(\"Original Array:\")\n",
        "print(words_array)\n",
        "\n",
        "print(\"\\nWords with Spaces:\")\n",
        "print(spaced_words)\n",
        "```"
      ],
      "metadata": {
        "id": "HJ_keI01rMr-"
      }
    },
    {
      "cell_type": "code",
      "source": [
        "import numpy as np\n",
        "\n",
        "# Create a NumPy array of words\n",
        "words_array = np.array(['python', 'numpy', 'pandas'])\n",
        "\n",
        "# Insert a space between each character of every word\n",
        "spaced_words = np.char.join(' ', words_array)\n",
        "\n",
        "# Print the result\n",
        "print(\"Original Array:\")\n",
        "print(words_array)\n",
        "\n",
        "print(\"\\nWords with Spaces:\")\n",
        "print(spaced_words)\n"
      ],
      "metadata": {
        "colab": {
          "base_uri": "https://localhost:8080/"
        },
        "id": "JPDl8Tx-snK9",
        "outputId": "f8c15c59-8e6a-4f4e-959d-87f917441d9b"
      },
      "execution_count": 6,
      "outputs": [
        {
          "output_type": "stream",
          "name": "stdout",
          "text": [
            "Original Array:\n",
            "['python' 'numpy' 'pandas']\n",
            "\n",
            "Words with Spaces:\n",
            "['p y t h o n' 'n u m p y' 'p a n d a s']\n"
          ]
        }
      ]
    },
    {
      "cell_type": "markdown",
      "source": [
        "#7.create two 2D NumPy arrays and perform element-wise addition,subtraction,multiplication and division.\n",
        "\n",
        "```\n",
        "import numpy as np\n",
        "\n",
        "# Create two 2D NumPy arrays\n",
        "array1 = np.array([[1, 2, 3],\n",
        "                   [4, 5, 6],\n",
        "                   [7, 8, 9]])\n",
        "\n",
        "array2 = np.array([[9, 8, 7],\n",
        "                   [6, 5, 4],\n",
        "                   [3, 2, 1]])\n",
        "\n",
        "# Perform element-wise operations\n",
        "addition = array1 + array2              # Element-wise addition\n",
        "subtraction = array1 - array2           # Element-wise subtraction\n",
        "multiplication = array1 * array2        # Element-wise multiplication\n",
        "division = array1 / array2              # Element-wise division\n",
        "\n",
        "# Print the results\n",
        "print(\"Array 1:\")\n",
        "print(array1)\n",
        "\n",
        "print(\"\\nArray 2:\")\n",
        "print(array2)\n",
        "\n",
        "print(\"\\nElement-wise Addition:\")\n",
        "print(addition)\n",
        "\n",
        "print(\"\\nElement-wise Subtraction:\")\n",
        "print(subtraction)\n",
        "\n",
        "print(\"\\nElement-wise Multiplication:\")\n",
        "print(multiplication)\n",
        "\n",
        "print(\"\\nElement-wise Division:\")\n",
        "print(division)\n",
        "```"
      ],
      "metadata": {
        "id": "RFWhDbEGrM80"
      }
    },
    {
      "cell_type": "code",
      "source": [
        "import numpy as np\n",
        "\n",
        "# Create two 2D NumPy arrays\n",
        "array1 = np.array([[1, 2, 3],\n",
        "                   [4, 5, 6],\n",
        "                   [7, 8, 9]])\n",
        "\n",
        "array2 = np.array([[9, 8, 7],\n",
        "                   [6, 5, 4],\n",
        "                   [3, 2, 1]])\n",
        "\n",
        "# Perform element-wise operations\n",
        "addition = array1 + array2              # Element-wise addition\n",
        "subtraction = array1 - array2           # Element-wise subtraction\n",
        "multiplication = array1 * array2        # Element-wise multiplication\n",
        "division = array1 / array2              # Element-wise division\n",
        "\n",
        "# Print the results\n",
        "print(\"Array 1:\")\n",
        "print(array1)\n",
        "\n",
        "print(\"\\nArray 2:\")\n",
        "print(array2)\n",
        "\n",
        "print(\"\\nElement-wise Addition:\")\n",
        "print(addition)\n",
        "\n",
        "print(\"\\nElement-wise Subtraction:\")\n",
        "print(subtraction)\n",
        "\n",
        "print(\"\\nElement-wise Multiplication:\")\n",
        "print(multiplication)\n",
        "\n",
        "print(\"\\nElement-wise Division:\")\n",
        "print(division)\n"
      ],
      "metadata": {
        "colab": {
          "base_uri": "https://localhost:8080/"
        },
        "id": "tGucQYfPs1Il",
        "outputId": "952317f1-1f20-4752-e788-dfc3577fe6d4"
      },
      "execution_count": 7,
      "outputs": [
        {
          "output_type": "stream",
          "name": "stdout",
          "text": [
            "Array 1:\n",
            "[[1 2 3]\n",
            " [4 5 6]\n",
            " [7 8 9]]\n",
            "\n",
            "Array 2:\n",
            "[[9 8 7]\n",
            " [6 5 4]\n",
            " [3 2 1]]\n",
            "\n",
            "Element-wise Addition:\n",
            "[[10 10 10]\n",
            " [10 10 10]\n",
            " [10 10 10]]\n",
            "\n",
            "Element-wise Subtraction:\n",
            "[[-8 -6 -4]\n",
            " [-2  0  2]\n",
            " [ 4  6  8]]\n",
            "\n",
            "Element-wise Multiplication:\n",
            "[[ 9 16 21]\n",
            " [24 25 24]\n",
            " [21 16  9]]\n",
            "\n",
            "Element-wise Division:\n",
            "[[0.11111111 0.25       0.42857143]\n",
            " [0.66666667 1.         1.5       ]\n",
            " [2.33333333 4.         9.        ]]\n"
          ]
        }
      ]
    },
    {
      "cell_type": "markdown",
      "source": [
        "#8.use NumPy to create a 5 * 5 identity matrix,then extract its diagonal elements.\n",
        "```\n",
        "import numpy as np\n",
        "\n",
        "# Create a 5x5 identity matrix\n",
        "identity_matrix = np.eye(5)\n",
        "\n",
        "# Extract the diagonal elements\n",
        "diagonal_elements = np.diagonal(identity_matrix)\n",
        "\n",
        "# Print the results\n",
        "print(\"5x5 Identity Matrix:\")\n",
        "print(identity_matrix)\n",
        "\n",
        "print(\"\\nDiagonal Elements:\")\n",
        "print(diagonal_elements)\n",
        "```"
      ],
      "metadata": {
        "id": "t0FSFiYsrNO1"
      }
    },
    {
      "cell_type": "code",
      "source": [
        "import numpy as np\n",
        "\n",
        "# Create a 5x5 identity matrix\n",
        "identity_matrix = np.eye(5)\n",
        "\n",
        "# Extract the diagonal elements\n",
        "diagonal_elements = np.diagonal(identity_matrix)\n",
        "\n",
        "# Print the results\n",
        "print(\"5x5 Identity Matrix:\")\n",
        "print(identity_matrix)\n",
        "\n",
        "print(\"\\nDiagonal Elements:\")\n",
        "print(diagonal_elements)\n"
      ],
      "metadata": {
        "colab": {
          "base_uri": "https://localhost:8080/"
        },
        "id": "IsPz3HV2tBRs",
        "outputId": "1085c6d0-93c7-4bdd-f0aa-64bc74d3af9e"
      },
      "execution_count": 8,
      "outputs": [
        {
          "output_type": "stream",
          "name": "stdout",
          "text": [
            "5x5 Identity Matrix:\n",
            "[[1. 0. 0. 0. 0.]\n",
            " [0. 1. 0. 0. 0.]\n",
            " [0. 0. 1. 0. 0.]\n",
            " [0. 0. 0. 1. 0.]\n",
            " [0. 0. 0. 0. 1.]]\n",
            "\n",
            "Diagonal Elements:\n",
            "[1. 1. 1. 1. 1.]\n"
          ]
        }
      ]
    },
    {
      "cell_type": "markdown",
      "source": [
        "#9.Generate a NumPy array of 100  random integers between 0 and 1000.Find and display all prime numbers in this array.\n",
        "```\n",
        "import numpy as np\n",
        "\n",
        "# Function to check if a number is prime\n",
        "def is_prime(n):\n",
        "    if n <= 1:\n",
        "        return False\n",
        "    for i in range(2, int(n**0.5) + 1):\n",
        "        if n % i == 0:\n",
        "            return False\n",
        "    return True\n",
        "\n",
        "# Generate a NumPy array of 100 random integers between 0 and 1000\n",
        "random_array = np.random.randint(0, 1001, size=100)\n",
        "\n",
        "# Find all prime numbers in the array\n",
        "prime_numbers = [num for num in random_array if is_prime(num)]\n",
        "\n",
        "# Print the results\n",
        "print(\"Random Array:\")\n",
        "print(random_array)\n",
        "\n",
        "print(\"\\nPrime Numbers:\")\n",
        "print(prime_numbers)\n",
        "```"
      ],
      "metadata": {
        "id": "JuirEepdrNhW"
      }
    },
    {
      "cell_type": "code",
      "source": [
        "import numpy as np\n",
        "\n",
        "# Function to check if a number is prime\n",
        "def is_prime(n):\n",
        "    if n <= 1:\n",
        "        return False\n",
        "    for i in range(2, int(n**0.5) + 1):\n",
        "        if n % i == 0:\n",
        "            return False\n",
        "    return True\n",
        "\n",
        "# Generate a NumPy array of 100 random integers between 0 and 1000\n",
        "random_array = np.random.randint(0, 1001, size=100)\n",
        "\n",
        "# Find all prime numbers in the array\n",
        "prime_numbers = [num for num in random_array if is_prime(num)]\n",
        "\n",
        "# Print the results\n",
        "print(\"Random Array:\")\n",
        "print(random_array)\n",
        "\n",
        "print(\"\\nPrime Numbers:\")\n",
        "print(prime_numbers)\n"
      ],
      "metadata": {
        "colab": {
          "base_uri": "https://localhost:8080/"
        },
        "id": "digm5BjmtSQs",
        "outputId": "9a03b220-ab68-4a11-ee46-9e70846c4651"
      },
      "execution_count": 9,
      "outputs": [
        {
          "output_type": "stream",
          "name": "stdout",
          "text": [
            "Random Array:\n",
            "[829 442 702 865  71 242 393 418 329 850  34 215 569 439 888 894 487 593\n",
            " 116 387 551 737 441 291 841 856 427 635 996 479 898 733 566 652 110 231\n",
            " 818 272 791 377 711  17 993 186 259 884 291 606 408 143 214  87  96 954\n",
            " 362 349 318 124 608 125 545 172 528 186 952 627 342 730 299 745 989 470\n",
            " 547 330 757 365 616 551  57 583 353 611 670 921  11 760 365 787 407 196\n",
            " 119 302 837 576 546 808 934 822 212 206]\n",
            "\n",
            "Prime Numbers:\n",
            "[829, 71, 569, 439, 487, 593, 479, 733, 17, 349, 547, 757, 353, 11, 787]\n"
          ]
        }
      ]
    },
    {
      "cell_type": "markdown",
      "source": [
        "#10.Create a NumPy array representing daily temperatures for a month.Calculate and display the weekly averages.\n",
        "\n",
        "```\n",
        "import numpy as np\n",
        "\n",
        "# Create a NumPy array representing daily temperatures for a month (30 days)\n",
        "# For demonstration, let's generate random temperatures between 15 and 35 degrees Celsius\n",
        "daily_temperatures = np.random.uniform(15, 35, size=30)\n",
        "\n",
        "# Calculate the number of complete weeks and the remaining days\n",
        "num_weeks = len(daily_temperatures) // 7\n",
        "remaining_days = len(daily_temperatures) % 7\n",
        "\n",
        "# Reshape the array into a 2D array for complete weeks\n",
        "weekly_temperatures = daily_temperatures[:num_weeks * 7].reshape(num_weeks, 7)\n",
        "\n",
        "# Calculate the weekly averages\n",
        "weekly_averages = np.mean(weekly_temperatures, axis=1)\n",
        "\n",
        "# If there are remaining days, calculate their average\n",
        "if remaining_days > 0:\n",
        "    last_week_average = np.mean(daily_temperatures[-remaining_days:])\n",
        "    weekly_averages = np.append(weekly_averages, last_week_average)\n",
        "\n",
        "# Print the results\n",
        "print(\"Daily Temperatures for the Month:\")\n",
        "print(daily_temperatures)\n",
        "\n",
        "print(\"\\nWeekly Averages:\")\n",
        "print(weekly_averages)\n",
        "\n",
        "```"
      ],
      "metadata": {
        "id": "waYQfVM4rNyW"
      }
    },
    {
      "cell_type": "code",
      "source": [
        "import numpy as np\n",
        "\n",
        "# Create a NumPy array representing daily temperatures for a month (30 days)\n",
        "# For demonstration, let's generate random temperatures between 15 and 35 degrees Celsius\n",
        "daily_temperatures = np.random.uniform(15, 35, size=30)\n",
        "\n",
        "# Calculate the number of complete weeks and the remaining days\n",
        "num_weeks = len(daily_temperatures) // 7\n",
        "remaining_days = len(daily_temperatures) % 7\n",
        "\n",
        "# Reshape the array into a 2D array for complete weeks\n",
        "weekly_temperatures = daily_temperatures[:num_weeks * 7].reshape(num_weeks, 7)\n",
        "\n",
        "# Calculate the weekly averages\n",
        "weekly_averages = np.mean(weekly_temperatures, axis=1)\n",
        "\n",
        "# If there are remaining days, calculate their average\n",
        "if remaining_days > 0:\n",
        "    last_week_average = np.mean(daily_temperatures[-remaining_days:])\n",
        "    weekly_averages = np.append(weekly_averages, last_week_average)\n",
        "\n",
        "# Print the results\n",
        "print(\"Daily Temperatures for the Month:\")\n",
        "print(daily_temperatures)\n",
        "\n",
        "print(\"\\nWeekly Averages:\")\n",
        "print(weekly_averages)\n"
      ],
      "metadata": {
        "colab": {
          "base_uri": "https://localhost:8080/"
        },
        "id": "vu4woTeTtikl",
        "outputId": "36f4af15-099a-4433-f056-8944726106df"
      },
      "execution_count": 11,
      "outputs": [
        {
          "output_type": "stream",
          "name": "stdout",
          "text": [
            "Daily Temperatures for the Month:\n",
            "[16.45315235 31.9800894  28.72247992 21.4422144  22.15980781 25.85796801\n",
            " 30.81388966 25.88572583 24.39866595 29.88867079 17.46019065 30.98003436\n",
            " 23.38663578 34.23518031 20.2374231  34.55422831 17.30259088 31.99147468\n",
            " 21.14732326 28.40531716 18.67728203 21.12490178 15.16972075 15.50420412\n",
            " 34.70691283 24.92851718 24.4366963  27.284159   26.74524744 27.13903079]\n",
            "\n",
            "Weekly Averages:\n",
            "[25.34708594 26.60501481 24.61651992 23.30787314 26.94213912]\n"
          ]
        }
      ]
    }
  ]
}